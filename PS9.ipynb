{
 "cells": [
  {
   "cell_type": "code",
   "execution_count": null,
   "metadata": {},
   "outputs": [],
   "source": [
    "Skript für Kapitel 4 und Übungsblatt 9 wurde geupdatet"
   ]
  },
  {
   "cell_type": "code",
   "execution_count": null,
   "metadata": {},
   "outputs": [],
   "source": [
    "Suchen III "
   ]
  },
  {
   "cell_type": "code",
   "execution_count": null,
   "metadata": {},
   "outputs": [],
   "source": [
    "Underlying Theme Today: Suche in O(1)\n",
    "    \n",
    "    Durch Strukturierung in Bäumen haben wir Suche im Vgl zu linearer Suche schon von O(n) auf O(ln(n)) verbessert!\n",
    "            (Einfügen, Löschen, Suchen in O(ln(n)))\n",
    "    \n",
    "    Können wir noch schneller werden?\n",
    "    Bitvektoren: Suche in O(1) allerdings Problem, dass Initialisierung uns O(n) kostet!\n",
    "        \n",
    "    Hashing =Streuspeicherung: Yay, Suche in O(1) möglich - wenn da nicht KOLLISIONEN wären =/"
   ]
  },
  {
   "cell_type": "code",
   "execution_count": null,
   "metadata": {},
   "outputs": [],
   "source": [
    "#Geburtstagsparadox"
   ]
  },
  {
   "cell_type": "code",
   "execution_count": 22,
   "metadata": {},
   "outputs": [],
   "source": [
    "def geburtstagsparadox(n):\n",
    "    pct=1\n",
    "    for i in range(n):\n",
    "        pct=pct*(365-i)/365\n",
    "        print(pct)"
   ]
  },
  {
   "cell_type": "code",
   "execution_count": 32,
   "metadata": {},
   "outputs": [
    {
     "name": "stdout",
     "output_type": "stream",
     "text": [
      "1.0\n",
      "0.9972602739726028\n",
      "0.9917958341152185\n",
      "0.9836440875334497\n",
      "0.9728644263002063\n",
      "0.9595375163508884\n",
      "0.9437642969040244\n",
      "0.9256647076483308\n",
      "0.905376166110833\n",
      "0.8830518222889221\n",
      "0.8588586216782667\n",
      "0.8329752111619353\n",
      "0.8055897247675702\n",
      "0.7768974879950266\n",
      "0.7470986802363133\n",
      "0.7163959947471498\n",
      "0.6849923347034391\n",
      "0.6530885821282105\n",
      "0.6208814739684632\n",
      "0.5885616164194198\n",
      "0.5563116648347941\n",
      "0.5243046923374498\n",
      "0.49270276567601445\n",
      "0.4616557420854711\n",
      "0.431300296030536\n",
      "0.40175917986406096\n",
      "0.37314071773675794\n",
      "0.3455385276576005\n",
      "0.319031462522223\n",
      "0.2936837572807313\n"
     ]
    }
   ],
   "source": [
    "geburtstagsparadox(30)"
   ]
  },
  {
   "cell_type": "code",
   "execution_count": null,
   "metadata": {},
   "outputs": [],
   "source": [
    "9.1. Bitvektoren"
   ]
  },
  {
   "cell_type": "code",
   "execution_count": null,
   "metadata": {},
   "outputs": [],
   "source": [
    "Gegeben ist wieder die Sammlung von Informatik-Fachbüchern: \n",
    "    \n",
    "Nummer Titel Autor Jahr Kurzel \n",
    "0 Design Patterns E. Gamma, et al. 1994 DP\n",
    "1 Clean Code Robert C. Martin 2008 CC\n",
    "2 Make Your Own Neural Network Tariq Rashid 2016 MNN\n",
    "3 Agile Software Development Robert C. Martin 2002 AgSD\n",
    "4 Introduction to Algorithms T. H. Cormen, et al. 1989 IA\n",
    "5 Functional Thinking: Paradigm Over Syntax Neal Ford 2014 FuT\n",
    "6 Extreme Programming Explained: Embrace Change Kent Beck 1999 ExPE\n",
    "7 Algorithms for Reinforcement Learning Csaba Szepesvari 2010 AlRL\n",
    "8 The Software Craftsman Robert C. Martin 2014 TheSC\n",
    "9 Test Driven Development: By Example Kent Beck 2002 TDD\n",
    "10 Programming Pearls Jon Bentley 1986 PP\n",
    "11 Building Your Own Compiler with C++ Jim Holmes 1994 BYOC\n",
    "\n",
    "\n",
    "Das Universum U soll im folgendem alle obigen Bucher enthalten. Ein Eintrag, Bit[i] eines Bitvektors steht\n",
    "dafür, ob ein Buch mit Nummer i in einer gegebenen Menge enthalten ist.\n",
    "Hinweis: Sie dürfen die Vektoren als Zeilenvektoren schreiben. "
   ]
  },
  {
   "cell_type": "code",
   "execution_count": null,
   "metadata": {},
   "outputs": [],
   "source": [
    "9.1.a) Geben Sie die Größe des Universums N=|U| an\n",
    "\n",
    "\n",
    "\n",
    "\n",
    "\n",
    "--> N=12"
   ]
  },
  {
   "cell_type": "code",
   "execution_count": null,
   "metadata": {},
   "outputs": [],
   "source": [
    "9.1.b) Geben Sie den Bitvektor an, der das Universum repräsentiert.\n",
    "\n",
    "\n",
    "\n",
    "\n",
    "--> Bit(U) = (1, 1, 1, 1, 1, 1, 1, 1, 1, 1, 1, 1)\n",
    "\n",
    "\n",
    "\n",
    "Wie viele Elemente (Bücher) enthält die Menge, die er repräsentiert.\n",
    "\n",
    "\n",
    "\n",
    "--> Die Menge enthalt natürlich genau N = 12 Elemente(Bücher)."
   ]
  },
  {
   "cell_type": "code",
   "execution_count": null,
   "metadata": {},
   "outputs": [],
   "source": [
    "9.1.c) Welcher Bitvektor repräsentiert folgende Menge an Büchern  M = {ASD, TDD, BYOC, IA, TSC}?\n"
   ]
  },
  {
   "cell_type": "code",
   "execution_count": 29,
   "metadata": {},
   "outputs": [],
   "source": [
    "a=['DP','CC','MYONN','ASD','IA','FT','EPE','ARL','TSC','TDD','PP','BYOC']\n",
    "b=['ASD','TDD','BYOC','IA','TSC']\n",
    "c=[0, 0, 0, 0, 0, 0, 0, 0, 0, 0, 0, 0]\n",
    "for b in b:\n",
    "    if b in a:\n",
    "        index=a.index(b)\n",
    "        c[index]=1"
   ]
  },
  {
   "cell_type": "code",
   "execution_count": 30,
   "metadata": {},
   "outputs": [
    {
     "data": {
      "text/plain": [
       "[0, 0, 0, 1, 1, 0, 0, 0, 1, 1, 0, 1]"
      ]
     },
     "execution_count": 30,
     "metadata": {},
     "output_type": "execute_result"
    }
   ],
   "source": [
    "c"
   ]
  },
  {
   "cell_type": "code",
   "execution_count": null,
   "metadata": {},
   "outputs": [],
   "source": [
    "9.1.d) Welche Menge reprasentiert der Bitvektor M = [1, 0, 0, 1, 1, 1, 0, 0, 0, 1, 0, 0]"
   ]
  },
  {
   "cell_type": "code",
   "execution_count": 34,
   "metadata": {},
   "outputs": [],
   "source": [
    "a=['DP','CC','MYONN','ASD','IA','FT','EPE','ARL','TSC','TDD','PP','BYOC']\n",
    "M = [1, 0, 0, 1, 1, 1, 0, 0, 0, 1, 0, 0]\n",
    "d=[]\n",
    "for i in range(len(M)):\n",
    "    if M[i]==1:\n",
    "        d.append(a[i])\n",
    "        "
   ]
  },
  {
   "cell_type": "code",
   "execution_count": 35,
   "metadata": {},
   "outputs": [
    {
     "data": {
      "text/plain": [
       "['DP', 'ASD', 'IA', 'FT', 'TDD']"
      ]
     },
     "execution_count": 35,
     "metadata": {},
     "output_type": "execute_result"
    }
   ],
   "source": [
    "d"
   ]
  },
  {
   "cell_type": "code",
   "execution_count": null,
   "metadata": {},
   "outputs": [],
   "source": [
    "9.1.e) Wie könnte ein effizienter Algorithmus aussehen, der mittels zweier Bitvektoren Bit(M1) und Bit(M2)\n",
    "die Schnittmenge der Mengen, die sie repräsentieren ( M1 und M2), berechnet und diese\n",
    "wieder als Bitvektor Bit(Mresult) ausgibt? Geben Sie diesen Algorithmus an"
   ]
  },
  {
   "cell_type": "code",
   "execution_count": 40,
   "metadata": {},
   "outputs": [],
   "source": [
    "#Bitvektor aus d)\n",
    "M1 = [1, 0, 0, 1, 1, 1, 0, 0, 0, 1, 0, 0]\n",
    "#anderer Bitvektor\n",
    "M2 = [1, 0, 1, 0, 1, 1, 0, 1, 0, 1, 1, 0]\n",
    "M3=[]\n",
    "for i in range(12):\n",
    "    M3.append(0)\n",
    "    \n",
    "for i in range(len(M1)):\n",
    "    if M1[i]==M2[i]:\n",
    "        M3[i]=M1[i]\n",
    "\n",
    "\n",
    "        "
   ]
  },
  {
   "cell_type": "code",
   "execution_count": 41,
   "metadata": {},
   "outputs": [
    {
     "data": {
      "text/plain": [
       "[1, 0, 0, 0, 1, 1, 0, 0, 0, 1, 0, 0]"
      ]
     },
     "execution_count": 41,
     "metadata": {},
     "output_type": "execute_result"
    }
   ],
   "source": [
    "M3"
   ]
  },
  {
   "cell_type": "code",
   "execution_count": null,
   "metadata": {},
   "outputs": [],
   "source": [
    "PseudoCode:\n",
    "Algorithmus schnitt(Bit(M_1), Bit(M_2)):\n",
    "    Bit(M_result) = Initialize new Bitvektor\n",
    "    for i = 0 bis N-1\n",
    "        Bit(M_result)[i] = Bit(M_1)[i] AND Bit(M_2)[i]\n",
    "    return Bit(M_result)\n"
   ]
  },
  {
   "cell_type": "code",
   "execution_count": null,
   "metadata": {},
   "outputs": [],
   "source": [
    "jetzt das gleiche für Vereinigungsmenge:"
   ]
  },
  {
   "cell_type": "code",
   "execution_count": 42,
   "metadata": {},
   "outputs": [],
   "source": [
    "#Bitvektor aus d)\n",
    "M1 = [1, 0, 0, 1, 1, 1, 0, 0, 0, 1, 0, 0]\n",
    "#anderer Bitvektor\n",
    "M2 = [1, 0, 1, 0, 1, 1, 0, 1, 0, 1, 1, 0]\n",
    "M3=[]\n",
    "for i in range(12):\n",
    "    M3.append(0)\n",
    "    \n",
    "for i in range(len(M1)):\n",
    "    if M1[i]==1:\n",
    "        M3[i]=M1[i]\n",
    "    if M2[i]==1:\n",
    "        M3[i]=M2[i]        "
   ]
  },
  {
   "cell_type": "code",
   "execution_count": 43,
   "metadata": {},
   "outputs": [
    {
     "data": {
      "text/plain": [
       "[1, 0, 1, 1, 1, 1, 0, 1, 0, 1, 1, 0]"
      ]
     },
     "execution_count": 43,
     "metadata": {},
     "output_type": "execute_result"
    }
   ],
   "source": [
    "M3"
   ]
  },
  {
   "cell_type": "code",
   "execution_count": null,
   "metadata": {},
   "outputs": [],
   "source": [
    "Algorithmus vereinigung(Bit(M_1), Bit(M_2)):\n",
    "    Bit(M_result) = Initialize new Bitvektor\n",
    "    for i = 0 bis N-1\n",
    "        Bit(M_result)[i] = Bit(M_1)[i] OR Bit(M_2)[i]\n",
    "    return Bit(M_result)"
   ]
  },
  {
   "cell_type": "code",
   "execution_count": null,
   "metadata": {},
   "outputs": [],
   "source": [
    "Laufzeit?\n",
    "\n",
    "\n",
    "\n",
    "\n",
    "\n",
    "\n",
    "Die Laufzeit ermittelt sich folgendermaßen:\n",
    "• Die Initialisierung benötigt O(N) (siehe Vorlesung)\n",
    "• Die for-Schleife wird N mal durchlaufen ⇒ O(N)\n",
    "• Innerhalb der for-Schleife finden zwei Suchen nach Elementen statt, diese sind in konstanter Zeit\n",
    "durchführbar (siehe Vorlesung), die logischen Operationen ( ∧ und ∨) bzw. (’AND’ und ’OR’)\n",
    "sind ebenfalls in konstanter Zeit durchführbar. \n",
    "\n",
    "Eine Iteration ist also in O(1) durchfuhrbar. \n",
    "\n",
    "Insgesamt ergibt sich fur die Laufzeit also: ¨ O(N + N ∗ 1) = O(N)"
   ]
  },
  {
   "cell_type": "code",
   "execution_count": null,
   "metadata": {},
   "outputs": [],
   "source": [
    "9.2. Hashing Offenes Hashing mit geschlossener Adressierung"
   ]
  },
  {
   "cell_type": "code",
   "execution_count": null,
   "metadata": {},
   "outputs": [],
   "source": [
    "perfekt\n",
    "\n",
    "\n",
    "\n",
    "\n",
    "wenn keine Kollisionen"
   ]
  },
  {
   "cell_type": "code",
   "execution_count": null,
   "metadata": {},
   "outputs": [],
   "source": [
    "minimal\n",
    "\n",
    "\n",
    "\n",
    "wenn hash-datenbank genau so viele einträge, wie die Datenbank"
   ]
  },
  {
   "cell_type": "code",
   "execution_count": null,
   "metadata": {},
   "outputs": [],
   "source": [
    "Gegeben sei folgende Hashfunktion h(k) = kmod 7 \n",
    "\n",
    "Fügen sie nun nacheinander folgende Schlüssel in eine Hashtabelle ein.\n",
    "\n",
    "Verwenden Sie dabei Offenes Hashing mit geschlossener Adressierung:"
   ]
  },
  {
   "cell_type": "code",
   "execution_count": null,
   "metadata": {},
   "outputs": [],
   "source": [
    "9.2.a) a=[1, 7, 13, 15, 14, 5]"
   ]
  },
  {
   "cell_type": "code",
   "execution_count": 1,
   "metadata": {},
   "outputs": [
    {
     "data": {
      "text/plain": [
       "array([1, 0, 6, 1, 0, 5])"
      ]
     },
     "execution_count": 1,
     "metadata": {},
     "output_type": "execute_result"
    }
   ],
   "source": [
    "import numpy as np\n",
    "a=np.array([1, 7, 13, 15, 14, 5])\n",
    "b=a%7\n",
    "b"
   ]
  },
  {
   "cell_type": "code",
   "execution_count": null,
   "metadata": {},
   "outputs": [],
   "source": [
    "als tabelle mit offenem hashing mit geschlossener adressierung:\n",
    "    0->7->14\n",
    "    1->1->15\n",
    "    2\n",
    "    3\n",
    "    4\n",
    "    5->5\n",
    "    6->13"
   ]
  },
  {
   "cell_type": "code",
   "execution_count": null,
   "metadata": {},
   "outputs": [],
   "source": [
    "9.2.b) c, z, a, j, v, k, l \n",
    "        (überlegen wie man Buchstaben in Hashfunktion einfügen kann)"
   ]
  },
  {
   "cell_type": "code",
   "execution_count": null,
   "metadata": {},
   "outputs": [],
   "source": [
    "zB ORD-Funktion: ORD(a)=1, ORD(b)=2, ...Ord(z)=26\n",
    "    0\n",
    "    1->a->v\n",
    "    2\n",
    "    3->c->j\n",
    "    4->k\n",
    "    5->z->l\n",
    "    6"
   ]
  },
  {
   "cell_type": "code",
   "execution_count": null,
   "metadata": {},
   "outputs": [],
   "source": [
    "9.3. Geschlossenes Hashing mit offener Adressierung"
   ]
  },
  {
   "cell_type": "code",
   "execution_count": null,
   "metadata": {},
   "outputs": [],
   "source": [
    "Gegeben sind die Zahlen {13, 7, 31, 19, 27, 42, 69, 96} welche in eine Hashtabelle der Große 11 eingeordnet \n",
    "werden sollen"
   ]
  },
  {
   "cell_type": "code",
   "execution_count": null,
   "metadata": {},
   "outputs": [],
   "source": [
    "9.3.a) Benutzen Sie geschlossenes Hashing mit h(k) = k mod 11 \n",
    "und ordnen Sie die Zahlen ein. \n",
    "Kennzeichnen Sie Kollisionen und \n",
    "lösen Sie diese durch polynomielles (genauer lineares) sondieren. "
   ]
  },
  {
   "cell_type": "code",
   "execution_count": 3,
   "metadata": {},
   "outputs": [
    {
     "name": "stdout",
     "output_type": "stream",
     "text": [
      "[13  7 31 19 27 42 69 96]\n",
      "[2 7 9 8 5 9 3 8]\n"
     ]
    }
   ],
   "source": [
    "a=np.array([13, 7, 31, 19, 27, 42, 69, 96])\n",
    "b=a%11\n",
    "\n",
    "\n",
    "\n",
    "\n",
    "\n",
    "\n",
    "print(a)\n",
    "print(b)"
   ]
  },
  {
   "cell_type": "code",
   "execution_count": null,
   "metadata": {},
   "outputs": [],
   "source": [
    "geschlossenes Hashing mit linearem Sondieren:\n",
    "13 → 2\n",
    "7 → 7\n",
    "31 → 9\n",
    "19 → 8\n",
    "27 → 5\n",
    "42 → 9 → 10\n",
    "69 → 3\n",
    "96 → 8 → 9 → 10 → 0"
   ]
  },
  {
   "cell_type": "code",
   "execution_count": null,
   "metadata": {},
   "outputs": [],
   "source": [
    "9.3.b) Nutzen Sie nun Doppel-Hashing mit h0(k) = k mod 11, \n",
    "der Sekundaren Hashfunktion h1(k)= k mod 9 + 1\n",
    "und der Sondierungsfunktion h_j(k) = (h0(k)+j*h1(k))mod 11 mit j=1,2,3,..."
   ]
  },
  {
   "cell_type": "code",
   "execution_count": 4,
   "metadata": {},
   "outputs": [
    {
     "name": "stdout",
     "output_type": "stream",
     "text": [
      "[13  7 31 19 27 42 69 96]\n",
      "[2 7 9 8 5 9 3 8]\n"
     ]
    }
   ],
   "source": [
    "print(a)\n",
    "print(b)"
   ]
  },
  {
   "cell_type": "code",
   "execution_count": null,
   "metadata": {},
   "outputs": [],
   "source": [
    "doppeltes Hashing:\n",
    "13 → 2\n",
    "7 → 7\n",
    "31 → 9\n",
    "19 → 8\n",
    "27 → 5\n",
    "42 → 9 : h_{j=1}(42) = (h0(42) + 1 * h1(42))mod11=5 →  h_{j=2}(42) = (h0(42) + 2 * h1(42)) mod11 = 1\n",
    "69 → 3\n",
    "96 → 8 → h_{j=1}=11(96) = (h0(96) + 1 ∗ h1(96))mod11 = 4"
   ]
  },
  {
   "cell_type": "code",
   "execution_count": 15,
   "metadata": {},
   "outputs": [
    {
     "data": {
      "text/plain": [
       "5"
      ]
     },
     "execution_count": 15,
     "metadata": {},
     "output_type": "execute_result"
    }
   ],
   "source": [
    "((42%11)+1*((42%9)+1))%11"
   ]
  },
  {
   "cell_type": "code",
   "execution_count": 14,
   "metadata": {},
   "outputs": [
    {
     "data": {
      "text/plain": [
       "1"
      ]
     },
     "execution_count": 14,
     "metadata": {},
     "output_type": "execute_result"
    }
   ],
   "source": [
    "((42%11)+2*((42%9)+1))%11"
   ]
  },
  {
   "cell_type": "code",
   "execution_count": 17,
   "metadata": {},
   "outputs": [
    {
     "data": {
      "text/plain": [
       "4"
      ]
     },
     "execution_count": 17,
     "metadata": {},
     "output_type": "execute_result"
    }
   ],
   "source": [
    "((96%11)+1*((96%9)+1))%11"
   ]
  }
 ],
 "metadata": {
  "kernelspec": {
   "display_name": "Python 3",
   "language": "python",
   "name": "python3"
  },
  "language_info": {
   "codemirror_mode": {
    "name": "ipython",
    "version": 3
   },
   "file_extension": ".py",
   "mimetype": "text/x-python",
   "name": "python",
   "nbconvert_exporter": "python",
   "pygments_lexer": "ipython3",
   "version": "3.6.8"
  }
 },
 "nbformat": 4,
 "nbformat_minor": 2
}
