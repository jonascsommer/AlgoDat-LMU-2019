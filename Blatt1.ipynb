{
 "cells": [
  {
   "cell_type": "code",
   "execution_count": null,
   "metadata": {},
   "outputs": [],
   "source": [
    "WIEDERHOLUNG"
   ]
  },
  {
   "cell_type": "code",
   "execution_count": null,
   "metadata": {},
   "outputs": [],
   "source": [
    "WIEDERHOLUNG\n",
    "Allgemeinheit: Lösung von Problemklasse, nicht nur von Einzelinstanz\n",
    "\n",
    "Determiniertheit: Für gleiche Eingabe, stets die gleiche Ausgabe (modulo: Zwischenzustände)\n",
    "\n",
    "Determinismus/Deterministisch: (deterministic algorithm): Für gleiche Eingabe, stets die gleiche Ausgabe UND gleiche Zwischenzustände\n",
    "\n",
    "Terminierung (finite algorithm): Algorithmus läuft für jede Eingabe nur endlich lange\n",
    "\n",
    "Effizienz(efficient algorithm): Sparsamkeit in Anzahl der Operationen\n",
    "\n",
    "Korrektheit/Verifikation (correctness/formal verification): \n",
    "    partial correctness: if an answer is returned, it will be correct\n",
    "    total correctness: partial correctness + Terminierung"
   ]
  },
  {
   "cell_type": "code",
   "execution_count": null,
   "metadata": {},
   "outputs": [],
   "source": [
    "ALLGEMEIN ZUM BLATT:\n",
    "    \n",
    "Eher einfach - ein paar Definitionen üben!\n",
    "\n",
    "Handwavy, keine mathematischen Beweise, bezüglich Korrektness und Effizienz"
   ]
  },
  {
   "cell_type": "code",
   "execution_count": 3,
   "metadata": {},
   "outputs": [],
   "source": [
    "import antigravity"
   ]
  },
  {
   "cell_type": "code",
   "execution_count": null,
   "metadata": {},
   "outputs": [],
   "source": [
    "AUFGABE1 "
   ]
  },
  {
   "cell_type": "code",
   "execution_count": null,
   "metadata": {},
   "outputs": [],
   "source": [
    "a) FUNKTION0"
   ]
  },
  {
   "cell_type": "code",
   "execution_count": 10,
   "metadata": {},
   "outputs": [
    {
     "data": {
      "text/plain": [
       "True"
      ]
     },
     "execution_count": 10,
     "metadata": {},
     "output_type": "execute_result"
    }
   ],
   "source": [
    "function0(10)"
   ]
  },
  {
   "cell_type": "code",
   "execution_count": 4,
   "metadata": {},
   "outputs": [],
   "source": [
    "def function0(a):\n",
    "    if a==0:\n",
    "        return True\n",
    "    if a==1:\n",
    "        return False\n",
    "    if (a<0):\n",
    "        return function0(-a)\n",
    "    return function0(a-2)"
   ]
  },
  {
   "cell_type": "code",
   "execution_count": null,
   "metadata": {},
   "outputs": [],
   "source": [
    "FUNKTION0: Gibt True zuruck wenn a gerade ist, False wenn a ungerade ist.\n",
    "\n",
    "Allgemeinheit: Gegeben!  Für alle ganzen Zahlen!\n",
    "\n",
    "Determiniertheit: Gegeben! Ausgabe ist stets die Gleiche bei gleicher Eingabe.\n",
    "\n",
    "Determinismus: Gegeben! Ausführung ist ebenfalls nur von der Eingabe abhängig!\n",
    "(deterministic algorithm)\n",
    "\n",
    "Terminierung: Terminiert fur alle ganzen Zahlen nach höchstens (n/2)+2 Schritten.\n",
    "(finite algorithm)\n",
    "\n",
    "Korrektheit: Gegeben, berechnet die Aufgabe.\n",
    "(correctness/formal verification)\n",
    "\n",
    "Effizient: könnte effizienter sein, z.B. mit Bitoperationen (schaue letztes Bit an in Binärdarstellung) - Modulo \n",
    "(efficient algorithm)"
   ]
  },
  {
   "cell_type": "code",
   "execution_count": null,
   "metadata": {},
   "outputs": [],
   "source": [
    "b) FUNKTION1 IN PYTHON"
   ]
  },
  {
   "cell_type": "code",
   "execution_count": 3,
   "metadata": {},
   "outputs": [
    {
     "data": {
      "text/plain": [
       "True"
      ]
     },
     "execution_count": 3,
     "metadata": {},
     "output_type": "execute_result"
    }
   ],
   "source": [
    "function1(\"tommarvoloriddle\",\"iamlordvoldemort\")"
   ]
  },
  {
   "cell_type": "code",
   "execution_count": 2,
   "metadata": {},
   "outputs": [],
   "source": [
    "#Python\n",
    "def function1(str1,str2):\n",
    "    if sorted(str1)==sorted(str2):\n",
    "        return True\n",
    "    else:\n",
    "        return False"
   ]
  },
  {
   "cell_type": "code",
   "execution_count": null,
   "metadata": {},
   "outputs": [],
   "source": [
    "Anagram-Checker\n",
    "\n",
    "Allgemeinheit: Gegeben!\n",
    "\n",
    "Determiniertheit: Gegeben! Ausgabe ist stets die Gleiche bei gleicher Eingabe.\n",
    "\n",
    "Determinismus(deterministic algorithm): Gegeben! Ausführung ist nur von der Eingabe abhängig!\n",
    "\n",
    "Terminierung(finite algorithm): Terminiert fur alle ganzen Zahlen nach worst-case: O(n*log(n)) Schritten.\n",
    "-->TimSort https://en.wikipedia.org/wiki/Timsort\n",
    "\n",
    "Effizient (efficient algorithm): zumindest worst-case ist langsamer als Java-Version\n"
   ]
  },
  {
   "cell_type": "code",
   "execution_count": null,
   "metadata": {},
   "outputs": [],
   "source": [
    "FUNKION1 IN JAVA\n",
    "f1(\"IAmTomRiddle\",\"LordVoldemort\")\n",
    "f1(\"Jonas\",\"Julia\")"
   ]
  },
  {
   "cell_type": "code",
   "execution_count": null,
   "metadata": {},
   "outputs": [],
   "source": [
    "#Java Code funktion1\n",
    "public static boolean f1(String str1, String str2) {\n",
    "char[] array1 = new char[Character.MAX_VALUE];\n",
    "char[] array2 = new char[Character.MAX_VALUE];\n",
    "for(char c : str1.toCharArray()){\n",
    "array1[c]++;\n",
    "}\n",
    "for(char c : str2.toCharArray()){\n",
    "array2[c]++;\n",
    "}\n",
    "for(char c = 0; c < Character.MAX_VALUE; c++){\n",
    "if(array1[c] != array2[c])\n",
    "return false;\n",
    "}\n",
    "return true;\n",
    "}"
   ]
  },
  {
   "cell_type": "code",
   "execution_count": null,
   "metadata": {},
   "outputs": [],
   "source": [
    "Anagramtest, bestehen zwei Strings aus dem gleichen Multiset von Buchstaben?\n",
    "\n",
    "Allgemeinheit: gegeben, funktioniert für Strings!\n",
    "    \n",
    "Determiniertheit: gegeben, Ausgabe ist stets die Gleiche bei gleicher Eingabe\n",
    "\n",
    "Determinismus(deterministic algorithm): gegeben, Ausfuhrung ist nur von der Eingabe abhängig\n",
    "\n",
    "Terminierung(finite algorithm): terminiert fur alle Strings endlicher Länge\n",
    "\n",
    "Korrektheit(correctness): gegeben, berechnet die Aufgabe\n",
    "\n",
    "Effizient(efficient algorithm): relativ effizient (Ordnung N für den array ausfüllen)"
   ]
  },
  {
   "cell_type": "code",
   "execution_count": null,
   "metadata": {},
   "outputs": [],
   "source": [
    "c) FUNKTION2"
   ]
  },
  {
   "cell_type": "code",
   "execution_count": 18,
   "metadata": {},
   "outputs": [
    {
     "data": {
      "text/plain": [
       "31.622776601683793"
      ]
     },
     "execution_count": 18,
     "metadata": {},
     "output_type": "execute_result"
    }
   ],
   "source": [
    "import math\n",
    "function2(1000,10)"
   ]
  },
  {
   "cell_type": "code",
   "execution_count": 11,
   "metadata": {},
   "outputs": [],
   "source": [
    "def function2(a, n):\n",
    "    x=1.0\n",
    "    for i in range(n):\n",
    "        x=0.5*(x+ (a/x))\n",
    "    return x"
   ]
  },
  {
   "cell_type": "code",
   "execution_count": null,
   "metadata": {},
   "outputs": [],
   "source": [
    "c) Heron Verfahren, Babylonisches Wurzelziehen\n",
    "\n",
    "Allgemeinheit: gegeben fur alle positiven Zahlen\n",
    "    f2 liefert Quadratwurzel fur beliebige reelle Zahlen und Iterationsschranken, was schon relativ allgemein\n",
    "    ist. Allerdings konnte man auch den Startwert in die Eingabe bringen, statt bei x=1.0 als erste Iteration.\n",
    "\n",
    "Determiniertheit: gegeben, Ausgabe ist stets die Gleiche bei gleicher Eingabe\n",
    "\n",
    "Determinismus(deterministic algorithm): gegeben, Ausfuhrung ist nur von a und n abhängig\n",
    "\n",
    "Terminierung(finite algorithm): terminiert nach n Schritten\n",
    "\n",
    "Korrektheit(correctness): konvergiert gegen richtigen Wert\n",
    "\n",
    "Effizient(efficient algorithm): relativ effizient (~konvergiert relativ schnell)\n",
    "        \n",
    "Anmerkungen: Eigentlich nicht allgemein korrekt, da nicht das Ergebnis rauskommt, im Allgemeinen. Aber innerhalb einer gewissen\n",
    "Genauigkeit dann irgendwie doch.\n",
    "Man muss zwischen mathematisch-strikter Korrektheit und der Moglichkeit einer Maschine unterscheiden. ¨\n",
    "Paradebeispiel 0.1+0.2 == 0.3, was kommt da raus? ;)"
   ]
  },
  {
   "cell_type": "code",
   "execution_count": 20,
   "metadata": {},
   "outputs": [
    {
     "data": {
      "text/plain": [
       "False"
      ]
     },
     "execution_count": 20,
     "metadata": {},
     "output_type": "execute_result"
    }
   ],
   "source": [
    "0.2+0.1==0.3"
   ]
  },
  {
   "cell_type": "code",
   "execution_count": null,
   "metadata": {},
   "outputs": [],
   "source": [
    "d) FUNKTION3"
   ]
  },
  {
   "cell_type": "code",
   "execution_count": 27,
   "metadata": {},
   "outputs": [
    {
     "data": {
      "text/plain": [
       "3.14392"
      ]
     },
     "execution_count": 27,
     "metadata": {},
     "output_type": "execute_result"
    }
   ],
   "source": [
    "function3(100000)"
   ]
  },
  {
   "cell_type": "code",
   "execution_count": 24,
   "metadata": {},
   "outputs": [],
   "source": [
    "import random\n",
    "import math\n",
    "def function3(n):\n",
    "    sum=0.0\n",
    "    for i in range(n):\n",
    "        x = random.uniform(0, 1)\n",
    "        y = random.uniform(0, 1)\n",
    "        if function2(x*x+y*y,100)<=1.0: #Wir verwenden natürlich das Heron Verfahren zum Wurzelziehen\n",
    "            sum+=1\n",
    "    return 4.0*sum/n"
   ]
  },
  {
   "cell_type": "code",
   "execution_count": null,
   "metadata": {},
   "outputs": [],
   "source": [
    "d) Monte Carlo berechnet Pi; Viele Zufallspunkte auf den Vierteleinheitskreis in [0, 1]^2\n",
    "schießen und das Verhaltnis von Punkten mit Abstand maximal 1 zum Ursprung zu allen Punkten beschreibt Pi. \n",
    "\n",
    "Allgemeinheit: nein, ist eine Einzelaufgabe (Pi berechnen)\n",
    "\n",
    "Determiniertheit: ja (Ergebnis ist immer Pi)\n",
    "    Zur Determiniertheit ist die Monte-Carlo-Methode, um Pi zu errechnen, ein diskussionswurdiger Kandidat. Wir \n",
    "    werden nie als Ergebnis eines auf einem Computer ausgefuhrten Algorithmus die Zahl Pi als Ergebnis erhalten, \n",
    "    sondern immer nur eine Naherung. Als Algorithmus für Pi liegt keine Determiniertheit vor. \n",
    "    \n",
    "    Als Algorithmus für eine Naherung für Pi allerdings schon, denn das Ergebnis ist bzgl. einer gewählten Genauigkeit ”gleich“. Hier \n",
    "    ist es wichtig, ob das Kriterium eine mathematische Gleichheit oder eine messbare Gleichheit ist. Wahlt man \n",
    "    die mathematische Perspektive und ignoriert technische Faktoren, so erreichen wir hier keine Determiniertheit.\n",
    "    \n",
    "\n",
    "Determinismus: nicht gegeben, Zwischenschritte sind zufallsabhangig\n",
    "\n",
    "Terminierung: terminiert nach n Iterationen\n",
    "\n",
    "Korrektheit: korrekt \n",
    "    gleiches Argument wie oben: Für \"Näherung für Pi\" ja!, für \"mathematisch pi\" nein!\n",
    "\n",
    "Effizient: eher nicht (Heron Verfahren schon mal sehr ineffizient)"
   ]
  },
  {
   "cell_type": "code",
   "execution_count": null,
   "metadata": {},
   "outputs": [],
   "source": [
    "e) FUNKTION4"
   ]
  },
  {
   "cell_type": "code",
   "execution_count": 5,
   "metadata": {},
   "outputs": [
    {
     "data": {
      "text/plain": [
       "27"
      ]
     },
     "execution_count": 5,
     "metadata": {},
     "output_type": "execute_result"
    }
   ],
   "source": [
    "function4(3,3)"
   ]
  },
  {
   "cell_type": "code",
   "execution_count": 4,
   "metadata": {},
   "outputs": [],
   "source": [
    "def function4(a, b):\n",
    "    if (b==1):\n",
    "        return a\n",
    "    return a*function4(a,b-1)"
   ]
  },
  {
   "cell_type": "code",
   "execution_count": null,
   "metadata": {},
   "outputs": [],
   "source": [
    "e) Potenz a^b berechnen\n",
    "Allgemeinheit: gegeben, lost alle ganzzahligen Potenzen \n",
    "Determiniertheit: ja\n",
    "Determinismus(deterministic): ja\n",
    "Terminierung(finite): nein, Bsp b = 0, oder 2^10,000 -> StackOverflow wenn mit Recursion\n",
    "Korrektheit(correctness): partiell korrekt: wenn er terminiert, ist das Ergebnis korrekt\n",
    "Effizient(efficient): Schleife ware effizienter (siehe Bsp)"
   ]
  },
  {
   "cell_type": "code",
   "execution_count": 91,
   "metadata": {},
   "outputs": [],
   "source": [
    "def power(base, exp):\n",
    "    res = 1\n",
    "    for _ in range(exp):\n",
    "        res *= base\n",
    "    return res"
   ]
  },
  {
   "cell_type": "code",
   "execution_count": 92,
   "metadata": {},
   "outputs": [
    {
     "data": {
      "text/plain": [
       "2"
      ]
     },
     "execution_count": 92,
     "metadata": {},
     "output_type": "execute_result"
    }
   ],
   "source": [
    "power(2,1)"
   ]
  },
  {
   "cell_type": "code",
   "execution_count": null,
   "metadata": {},
   "outputs": [],
   "source": [
    "f) FUNKTION5"
   ]
  },
  {
   "cell_type": "code",
   "execution_count": 45,
   "metadata": {},
   "outputs": [
    {
     "data": {
      "text/plain": [
       "61"
      ]
     },
     "execution_count": 45,
     "metadata": {},
     "output_type": "execute_result"
    }
   ],
   "source": [
    "f5(3,3)"
   ]
  },
  {
   "cell_type": "code",
   "execution_count": 40,
   "metadata": {},
   "outputs": [],
   "source": [
    "def f5(a, b):\n",
    "    if (a==0):\n",
    "        return b+1\n",
    "    if (b==0):\n",
    "        return f5(a-1,1)\n",
    "    return f5(a-1, f5(a,b-1))"
   ]
  },
  {
   "cell_type": "code",
   "execution_count": null,
   "metadata": {},
   "outputs": [],
   "source": [
    "Ackermannfunktion (https://de.wikipedia.org/wiki/Ackermannfunktion)\n",
    "\n",
    "Allgemeinheit: ja\n",
    "\n",
    "Determiniertheit: ja - stets das gleiche Ergebnis\n",
    "\n",
    "Determinismus: ja - stets der gleiche Ablauf\n",
    "\n",
    "Terminierung: terminiert immer, dauert aber seeeeeehr lange\n",
    "\n",
    "Korrektheit: korrekt\n",
    "\n",
    "Effizient: fragwurdig\n",
    "\n",
    "Beispiel fur eine Funktion, die zwar Korrekt ausgewertet wird und immer terminiert, aber sehr rechenintensiv ist. \n",
    "Anwendungen nur fur Benchmark-Tests"
   ]
  },
  {
   "cell_type": "code",
   "execution_count": null,
   "metadata": {},
   "outputs": [],
   "source": [
    "g) FUNKTION6"
   ]
  },
  {
   "cell_type": "code",
   "execution_count": null,
   "metadata": {},
   "outputs": [],
   "source": [
    "f6()"
   ]
  },
  {
   "cell_type": "code",
   "execution_count": null,
   "metadata": {},
   "outputs": [],
   "source": [
    "def f6():\n",
    "    list=[]\n",
    "    list.append(2)\n",
    "    n=1\n",
    "    while (True):\n",
    "        n+=2\n",
    "        add=True\n",
    "        for m in list:\n",
    "            if (n%m==0):\n",
    "                add=False\n",
    "        if add:\n",
    "            list.append(n)\n",
    "            print(n)"
   ]
  },
  {
   "cell_type": "code",
   "execution_count": null,
   "metadata": {},
   "outputs": [],
   "source": [
    "Primzahlen finden\n",
    "\n",
    "Allgemeinheit: ja\n",
    "\n",
    "Determiniertheit: ja - stets das gleiche Ergebnis\n",
    "\n",
    "Determinismus: ja - stets der gleiche Ablauf\n",
    "\n",
    "Terminierung: Terminiert nie\n",
    "\n",
    "Korrektheit: partiell korrekt: wurde es terminieren (z.B. Abbruch) dann ist das Ergebnis korrekt ¨\n",
    "\n",
    "Effizient: Sehr ineffizient, funktioniert aber."
   ]
  },
  {
   "cell_type": "code",
   "execution_count": null,
   "metadata": {},
   "outputs": [],
   "source": [
    "AUFGABE2"
   ]
  },
  {
   "cell_type": "code",
   "execution_count": 49,
   "metadata": {},
   "outputs": [],
   "source": [
    "def f7():\n",
    "    a=0\n",
    "    b=0\n",
    "    if (random.uniform(0, 1)<0.5):\n",
    "        a+=1\n",
    "        b+=1\n",
    "        print(\"erster Weg\")\n",
    "    else:\n",
    "        b+=1\n",
    "        a+=1\n",
    "        print(\"zweiter Weg\")\n",
    "    return a + b"
   ]
  },
  {
   "cell_type": "code",
   "execution_count": 52,
   "metadata": {},
   "outputs": [
    {
     "name": "stdout",
     "output_type": "stream",
     "text": [
      "zweiter Weg\n"
     ]
    },
    {
     "data": {
      "text/plain": [
       "2"
      ]
     },
     "execution_count": 52,
     "metadata": {},
     "output_type": "execute_result"
    }
   ],
   "source": [
    "f7()"
   ]
  },
  {
   "cell_type": "code",
   "execution_count": null,
   "metadata": {},
   "outputs": [],
   "source": [
    "KLAUSUR"
   ]
  },
  {
   "cell_type": "code",
   "execution_count": null,
   "metadata": {},
   "outputs": [],
   "source": [
    "SS18#1\n",
    "b) Welche Eigenschaft wird hier jeweils beschrieben?\n",
    "\n",
    "i) „Für die gleiche Eingabe wird stets die gleiche Ausgabe berechnet.“\n",
    "\n",
    "Lösung: Determiniertheit\n",
    "\n",
    "    \n",
    "ii) „Der Algorithmus läuft für jede Eingabe nur endlich lange.“\n",
    "\n",
    "Lösung: Terminiertheit\n",
    "\n",
    "    \n",
    "iii) „Für die gleiche Eingabe ist die Ausführung und die Ausgabe stets identisch.“\n",
    "\n",
    "Lösung: Deterministisch "
   ]
  },
  {
   "cell_type": "code",
   "execution_count": null,
   "metadata": {},
   "outputs": [],
   "source": [
    "c) Welche Operation gibt das oberste Element eines Stacks aus und entfernt es zugleich?\n",
    "\n",
    "Lösung: pop()"
   ]
  },
  {
   "cell_type": "code",
   "execution_count": null,
   "metadata": {},
   "outputs": [],
   "source": [
    "d) Wie nennt man einen Baum der Arität 2\n",
    "\n",
    "\n",
    "Lösung: Binärbaum "
   ]
  },
  {
   "cell_type": "code",
   "execution_count": null,
   "metadata": {},
   "outputs": [],
   "source": [
    "e) Die Höhe h sei die Anzahl der Kanten auf dem längsten von der Wurzel ausgehenden Pfad.\n",
    "i) Wie viele Blätter hat ein Baum der Höhe h mit Arität a maximal?\n",
    "\n",
    "\n",
    "\t \t Lösung: a^h\n",
    "\n",
    "        \n",
    "ii) Wieviele Knoten hat ein Baum der Höhe h mit Arität 2 mindestens?\n",
    "\n",
    "\n",
    "\t \t Lösung: h+1 (wenn man die Wurzel nicht als Knoten zählt) "
   ]
  }
 ],
 "metadata": {
  "kernelspec": {
   "display_name": "Python 3",
   "language": "python",
   "name": "python3"
  },
  "language_info": {
   "codemirror_mode": {
    "name": "ipython",
    "version": 3
   },
   "file_extension": ".py",
   "mimetype": "text/x-python",
   "name": "python",
   "nbconvert_exporter": "python",
   "pygments_lexer": "ipython3",
   "version": "3.6.6"
  }
 },
 "nbformat": 4,
 "nbformat_minor": 2
}
